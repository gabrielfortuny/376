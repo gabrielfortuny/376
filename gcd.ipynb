{
 "cells": [
  {
   "cell_type": "code",
   "execution_count": 16,
   "id": "610e43c6",
   "metadata": {},
   "outputs": [],
   "source": [
    "def brute_force_gcd(x: int, y: int) -> int:\n",
    "    if not x >= y >= 0:\n",
    "        raise ValueError(\"x must be greater than or equal to y and both must be non-negative\")\n",
    "    if y == 0:\n",
    "        return x\n",
    "    for i in range(y, 0, -1):\n",
    "        if x % i == 0 and y % i == 0:\n",
    "            return i"
   ]
  },
  {
   "cell_type": "code",
   "execution_count": 17,
   "id": "6575d21a",
   "metadata": {},
   "outputs": [],
   "source": [
    "def euclid(x: int, y: int) -> int:\n",
    "    if not x > y >= 0:\n",
    "        raise ValueError(\"x must be greater than y and both must be non-negative\")\n",
    "    if y == 0:\n",
    "        return x\n",
    "    return euclid(y, x % y)"
   ]
  }
 ],
 "metadata": {
  "kernelspec": {
   "display_name": "env",
   "language": "python",
   "name": "python3"
  },
  "language_info": {
   "codemirror_mode": {
    "name": "ipython",
    "version": 3
   },
   "file_extension": ".py",
   "mimetype": "text/x-python",
   "name": "python",
   "nbconvert_exporter": "python",
   "pygments_lexer": "ipython3",
   "version": "3.13.3"
  }
 },
 "nbformat": 4,
 "nbformat_minor": 5
}
