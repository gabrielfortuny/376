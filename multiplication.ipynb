{
 "cells": [
  {
   "cell_type": "code",
   "execution_count": null,
   "id": "83e8e3a4",
   "metadata": {},
   "outputs": [],
   "source": [
    "def iterate_digits(n: int):\n",
    "    \"\"\"\n",
    "    Iterates through the digits of a non-negative integer in reverse order.\n",
    "\n",
    "    Args:\n",
    "        n (int): The non-negative integer whose digits are to be iterated.\n",
    "\n",
    "    Raises:\n",
    "        ValueError: If n is negative.\n",
    "\n",
    "    Yields:\n",
    "        int: Each digit of the number, starting from the least significant digit.\n",
    "    \"\"\"\n",
    "    if not n >= 0:\n",
    "        raise ValueError(\"n must be a non-negative integer\")\n",
    "    for digit in str(abs(n))[::-1]:\n",
    "        yield int(digit)"
   ]
  },
  {
   "cell_type": "code",
   "execution_count": null,
   "id": "d8e71adf",
   "metadata": {},
   "outputs": [],
   "source": [
    "def grade_school_multiplication(x: int, y: int) -> int:\n",
    "    if not x > 0 and y > 0:\n",
    "        raise ValueError(\"x and y must be positive integers\")\n",
    "    for x_digit in iterate_digits(x):\n",
    "        for y_digit in iterate_digits(y):"
   ]
  }
 ],
 "metadata": {
  "language_info": {
   "name": "python"
  }
 },
 "nbformat": 4,
 "nbformat_minor": 5
}
